{
 "cells": [
  {
   "cell_type": "code",
   "execution_count": 23,
   "metadata": {
    "ExecuteTime": {
     "end_time": "2020-05-21T16:10:49.783740Z",
     "start_time": "2020-05-21T16:10:49.774764Z"
    }
   },
   "outputs": [],
   "source": [
    "import pandas as pd\n",
    "import numpy as np"
   ]
  },
  {
   "cell_type": "code",
   "execution_count": 55,
   "metadata": {
    "ExecuteTime": {
     "end_time": "2020-05-22T09:10:51.441660Z",
     "start_time": "2020-05-22T09:10:51.388640Z"
    }
   },
   "outputs": [],
   "source": [
    "\n",
    "from keras.preprocessing.text import Tokenizer\n",
    "from keras.preprocessing.sequence import pad_sequences\n",
    "from keras.layers import Bidirectional, GlobalMaxPool1D, Input\n",
    "from keras.layers import Convolution1D, Conv1D\n",
    "from keras import initializers, regularizers, constraints, optimizers, layers\n",
    "\n",
    "\n",
    "from keras.preprocessing import sequence\n",
    "from keras.layers import Conv1D, GlobalMaxPooling1D, MaxPooling1D, Flatten\n",
    "from keras.initializers import Constant\n",
    "\n",
    "from sklearn.metrics import f1_score, confusion_matrix\n",
    "from sklearn.model_selection import train_test_split\n",
    "\n",
    "\n",
    "from keras import Model, models\n",
    "from keras.layers import Embedding, Dense, Conv1D, GlobalMaxPooling1D, Concatenate, Dropout\n",
    "from keras.preprocessing import sequence\n",
    "\n",
    "from keras.preprocessing.text import Tokenizer\n",
    "from keras.preprocessing.sequence import pad_sequences\n",
    "from keras.utils import to_categorical\n",
    "from keras.layers import Dense, Input, GlobalMaxPooling1D, Concatenate\n",
    "from keras.layers import Conv1D, MaxPooling1D, Embedding\n",
    "from keras.models import Model\n",
    "from keras.initializers import Constant\n",
    "\n"
   ]
  },
  {
   "cell_type": "code",
   "execution_count": 25,
   "metadata": {
    "ExecuteTime": {
     "end_time": "2020-05-21T16:10:55.310696Z",
     "start_time": "2020-05-21T16:10:53.848068Z"
    }
   },
   "outputs": [],
   "source": [
    "data = pd.read_csv('reviews_cleaned')"
   ]
  },
  {
   "cell_type": "code",
   "execution_count": 26,
   "metadata": {
    "ExecuteTime": {
     "end_time": "2020-05-21T16:10:57.398738Z",
     "start_time": "2020-05-21T16:10:57.335906Z"
    }
   },
   "outputs": [],
   "source": [
    "X_train, X_test, y_train, y_test = train_test_split(data['review'], data['sentiment'], \n",
    "                                                    random_state = 42, test_size =0.05, stratify= data['sentiment'])"
   ]
  },
  {
   "cell_type": "code",
   "execution_count": 28,
   "metadata": {
    "ExecuteTime": {
     "end_time": "2020-05-21T16:11:30.736306Z",
     "start_time": "2020-05-21T16:11:01.610063Z"
    }
   },
   "outputs": [],
   "source": [
    "max_features = 50000\n",
    "maxlen = 3000\n",
    "embedding_dims = 300\n",
    "\n",
    "\n",
    "\n",
    "tokenizer = Tokenizer(num_words=max_features, oov_token = '<UNK>')\n",
    "\n",
    "tokenizer.fit_on_texts(X_train)\n",
    "\n",
    "word_index = tokenizer.word_index\n",
    "\n",
    "list_tokenized_train = tokenizer.texts_to_sequences(X_train)\n",
    "\n",
    "maxlen = max([len(x) for x in list_tokenized_train])\n",
    "\n",
    "list_tokenized_test = tokenizer.texts_to_sequences(X_test)\n",
    "\n",
    "\n",
    "x_train = sequence.pad_sequences(list_tokenized_train, padding = 'post', \n",
    "                                 truncating = 'post', maxlen=maxlen)\n",
    "\n",
    "x_test = sequence.pad_sequences(list_tokenized_test, padding = 'post', \n",
    "                                 truncating = 'post', maxlen=maxlen)\n"
   ]
  },
  {
   "cell_type": "code",
   "execution_count": null,
   "metadata": {
    "ExecuteTime": {
     "end_time": "2020-05-21T16:11:33.311369Z",
     "start_time": "2020-05-21T16:11:33.304402Z"
    }
   },
   "outputs": [],
   "source": [
    "# Creating a embedding using glove\n",
    "\n",
    "embeddings_index = dict()\n",
    "\n",
    "with open('glove.6B.300d.txt', encoding=\"utf8\") as f:\n",
    "    for line in f:\n",
    "        values = line.split()\n",
    "        word = values[0]\n",
    "        coefs = np.asarray(values[1:], dtype='float32')\n",
    "        embeddings_index[word] = coefs\n",
    "        \n",
    "\n",
    "num_words = min(num_words, len(word_index) + 1)\n",
    "embedding_matrix = np.zeros((num_words, embedding_dims))\n",
    "\n",
    "for word, i in word_index.items():\n",
    "    if i >= num_words:\n",
    "        continue\n",
    "    embedding_vector = embeddings_index.get(word)\n",
    "    if embedding_vector is not None:\n",
    "        embedding_matrix[i] = embedding_vector\n",
    "\n",
    "\n"
   ]
  },
  {
   "cell_type": "code",
   "execution_count": 42,
   "metadata": {
    "ExecuteTime": {
     "end_time": "2020-05-21T16:33:42.386802Z",
     "start_time": "2020-05-21T16:33:42.360872Z"
    }
   },
   "outputs": [],
   "source": [
    "kernel_sizes=[2, 3, 4, 5, 6]\n",
    "class_num = 1\n",
    "last_activation='sigmoid' \n",
    "sequence_length = data.shape[1]\n",
    "\n",
    "batch_size = 64\n",
    "embedding_dims = 300\n",
    "epochs = 10\n",
    "max_features = num_words\n",
    "\n",
    "convs = []\n",
    "max_poolings = []\n",
    "\n",
    "\n",
    "for kernel_size in kernel_sizes:\n",
    "    convs.append(Conv1D(256, kernel_size, activation='relu'))\n",
    "    max_poolings.append(GlobalMaxPooling1D())\n",
    "\n",
    "inputs = Input(shape=(x_train.shape[1],), dtype='int32')\n",
    "\n",
    "embedding = Embedding(max_features, embedding_dims, weights=[embedding_matrix], input_length=maxlen, trainable=False)(inputs)\n",
    "\n",
    "convs2 = []\n",
    "for i in range(len(kernel_sizes)):\n",
    "    c = convs[i](embedding)\n",
    "    c = max_poolings[i](c)\n",
    "    convs2.append(c)\n",
    "x = Concatenate()(convs2)\n",
    "output = Dense(class_num, activation=last_activation)(x)\n",
    "\n",
    "\n",
    "model = Model(inputs=inputs, outputs=output)\n",
    "\n",
    "model.compile('adam', 'binary_crossentropy', metrics=['accuracy'])"
   ]
  },
  {
   "cell_type": "code",
   "execution_count": null,
   "metadata": {
    "ExecuteTime": {
     "end_time": "2020-05-21T17:11:08.132840Z",
     "start_time": "2020-05-21T17:10:54.333859Z"
    }
   },
   "outputs": [],
   "source": [
    "model.fit(x_train, y_train,\n",
    "          batch_size=batch_size,\n",
    "          epochs=epochs,\n",
    "          validation_data=(x_test, y_test))"
   ]
  },
  {
   "cell_type": "code",
   "execution_count": 57,
   "metadata": {
    "ExecuteTime": {
     "end_time": "2020-05-22T09:11:33.702617Z",
     "start_time": "2020-05-22T09:11:23.772895Z"
    }
   },
   "outputs": [],
   "source": [
    "model = models.load_model('model_textcnn_imbd.h5')\n"
   ]
  },
  {
   "cell_type": "code",
   "execution_count": 58,
   "metadata": {
    "ExecuteTime": {
     "end_time": "2020-05-22T09:16:33.619487Z",
     "start_time": "2020-05-22T09:11:36.373756Z"
    }
   },
   "outputs": [],
   "source": [
    "result = model.predict(x_test)"
   ]
  },
  {
   "cell_type": "code",
   "execution_count": 70,
   "metadata": {
    "ExecuteTime": {
     "end_time": "2020-05-22T09:32:23.119598Z",
     "start_time": "2020-05-22T09:32:23.110622Z"
    }
   },
   "outputs": [
    {
     "data": {
      "text/plain": [
       "(2500, 1)"
      ]
     },
     "execution_count": 70,
     "metadata": {},
     "output_type": "execute_result"
    }
   ],
   "source": [
    "result.shape"
   ]
  },
  {
   "cell_type": "code",
   "execution_count": 59,
   "metadata": {
    "ExecuteTime": {
     "end_time": "2020-05-22T09:16:36.833082Z",
     "start_time": "2020-05-22T09:16:36.342690Z"
    }
   },
   "outputs": [
    {
     "name": "stdout",
     "output_type": "stream",
     "text": [
      "              precision    recall  f1-score   support\n",
      "\n",
      "       False       0.92      0.93      0.92      1237\n",
      "        True       0.93      0.92      0.92      1263\n",
      "\n",
      "    accuracy                           0.92      2500\n",
      "   macro avg       0.92      0.92      0.92      2500\n",
      "weighted avg       0.92      0.92      0.92      2500\n",
      "\n",
      "Confusion matrix:\n"
     ]
    },
    {
     "data": {
      "text/plain": [
       "array([[1149,   88],\n",
       "       [ 101, 1162]], dtype=int64)"
      ]
     },
     "execution_count": 59,
     "metadata": {},
     "output_type": "execute_result"
    }
   ],
   "source": [
    "y_pred = (result > 0.5)\n",
    "\n",
    "print(classification_report(y_pred, y_test))\n",
    "print('Confusion matrix:')\n",
    "confusion_matrix(y_pred, y_test)"
   ]
  },
  {
   "cell_type": "code",
   "execution_count": 146,
   "metadata": {
    "ExecuteTime": {
     "end_time": "2020-05-22T10:10:54.569814Z",
     "start_time": "2020-05-22T10:10:54.564829Z"
    }
   },
   "outputs": [],
   "source": [
    "example = [\"Joaquin Phoenix gives a tour de force performance, fearless and stunning in its emotional depth and physicality. \\\n",
    "            It's impossible to talk about this without referencing Heath Ledger's Oscar-winning performance from The Dark Knight, \\\n",
    "            widely considered the definitive live-action portrayal of the Joker, so let's talk about it. \\\n",
    "            The fact is, everyone is going to be stunned by what Phoenix accomplishes, because it's what many thought impossible \\\n",
    "            a portrayal that matches and potentially exceeds that of The Dark Knight's Clown Prince of Crime\"]"
   ]
  },
  {
   "cell_type": "code",
   "execution_count": 147,
   "metadata": {
    "ExecuteTime": {
     "end_time": "2020-05-22T10:10:56.356043Z",
     "start_time": "2020-05-22T10:10:56.350060Z"
    }
   },
   "outputs": [],
   "source": [
    "tokenized_example = tokenizer.texts_to_sequences(example)"
   ]
  },
  {
   "cell_type": "code",
   "execution_count": 148,
   "metadata": {
    "ExecuteTime": {
     "end_time": "2020-05-22T10:10:58.032562Z",
     "start_time": "2020-05-22T10:10:58.026577Z"
    }
   },
   "outputs": [],
   "source": [
    "example_test = sequence.pad_sequences(tokenized_example, padding = 'post', \n",
    "                                         truncating = 'post', maxlen=maxlen)"
   ]
  },
  {
   "cell_type": "code",
   "execution_count": 149,
   "metadata": {
    "ExecuteTime": {
     "end_time": "2020-05-22T10:11:00.034458Z",
     "start_time": "2020-05-22T10:10:59.905771Z"
    }
   },
   "outputs": [],
   "source": [
    "example_result = model.predict(example_test)"
   ]
  },
  {
   "cell_type": "code",
   "execution_count": 163,
   "metadata": {
    "ExecuteTime": {
     "end_time": "2020-05-22T10:16:25.807383Z",
     "start_time": "2020-05-22T10:16:25.800402Z"
    }
   },
   "outputs": [],
   "source": [
    "p = example_result[0][0] * 100"
   ]
  },
  {
   "cell_type": "code",
   "execution_count": 164,
   "metadata": {
    "ExecuteTime": {
     "end_time": "2020-05-22T10:16:27.609567Z",
     "start_time": "2020-05-22T10:16:27.601588Z"
    }
   },
   "outputs": [
    {
     "name": "stdout",
     "output_type": "stream",
     "text": [
      "The review is positive with 100.00 probability\n"
     ]
    }
   ],
   "source": [
    "if example_result > 0.5:\n",
    "    print(f'The review is positive with {p:.2f} probability')\n",
    "else:\n",
    "    print('The review is negative')"
   ]
  },
  {
   "cell_type": "code",
   "execution_count": null,
   "metadata": {},
   "outputs": [],
   "source": []
  },
  {
   "cell_type": "code",
   "execution_count": null,
   "metadata": {},
   "outputs": [],
   "source": []
  },
  {
   "cell_type": "code",
   "execution_count": null,
   "metadata": {},
   "outputs": [],
   "source": []
  }
 ],
 "metadata": {
  "kernelspec": {
   "display_name": "Python 3",
   "language": "python",
   "name": "python3"
  },
  "language_info": {
   "codemirror_mode": {
    "name": "ipython",
    "version": 3
   },
   "file_extension": ".py",
   "mimetype": "text/x-python",
   "name": "python",
   "nbconvert_exporter": "python",
   "pygments_lexer": "ipython3",
   "version": "3.7.4"
  },
  "varInspector": {
   "cols": {
    "lenName": 16,
    "lenType": 16,
    "lenVar": 40
   },
   "kernels_config": {
    "python": {
     "delete_cmd_postfix": "",
     "delete_cmd_prefix": "del ",
     "library": "var_list.py",
     "varRefreshCmd": "print(var_dic_list())"
    },
    "r": {
     "delete_cmd_postfix": ") ",
     "delete_cmd_prefix": "rm(",
     "library": "var_list.r",
     "varRefreshCmd": "cat(var_dic_list()) "
    }
   },
   "types_to_exclude": [
    "module",
    "function",
    "builtin_function_or_method",
    "instance",
    "_Feature"
   ],
   "window_display": false
  }
 },
 "nbformat": 4,
 "nbformat_minor": 2
}
