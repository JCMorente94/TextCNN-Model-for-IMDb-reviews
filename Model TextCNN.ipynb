{
 "cells": [
  {
   "cell_type": "code",
   "execution_count": 23,
   "metadata": {
    "ExecuteTime": {
     "end_time": "2020-05-21T16:10:49.783740Z",
     "start_time": "2020-05-21T16:10:49.774764Z"
    }
   },
   "outputs": [],
   "source": [
    "import pandas as pd\n",
    "import numpy as np"
   ]
  },
  {
   "cell_type": "code",
   "execution_count": 24,
   "metadata": {
    "ExecuteTime": {
     "end_time": "2020-05-21T16:10:51.687798Z",
     "start_time": "2020-05-21T16:10:51.675821Z"
    }
   },
   "outputs": [],
   "source": [
    "from keras.preprocessing.text import Tokenizer\n",
    "from keras.preprocessing.sequence import pad_sequences\n",
    "from keras.layers import Dense , Input , LSTM , Embedding, Dropout , Activation, GRU, Flatten\n",
    "from keras.layers import Bidirectional, GlobalMaxPool1D\n",
    "from keras.models import Model, Sequential\n",
    "from keras.layers import Convolution1D, Conv1D, Concatenate\n",
    "from keras import initializers, regularizers, constraints, optimizers, layers\n",
    "\n",
    "\n",
    "from keras.preprocessing import sequence\n",
    "from keras.layers import Embedding\n",
    "from keras.layers import Conv1D, GlobalMaxPooling1D, MaxPooling1D\n",
    "from keras.initializers import Constant\n",
    "\n",
    "from sklearn.metrics import f1_score, confusion_matrix, classification_report\n",
    "from sklearn.model_selection import train_test_split\n",
    "\n"
   ]
  },
  {
   "cell_type": "code",
   "execution_count": 25,
   "metadata": {
    "ExecuteTime": {
     "end_time": "2020-05-21T16:10:55.310696Z",
     "start_time": "2020-05-21T16:10:53.848068Z"
    }
   },
   "outputs": [],
   "source": [
    "data = pd.read_csv('reviews_cleaned')"
   ]
  },
  {
   "cell_type": "code",
   "execution_count": 26,
   "metadata": {
    "ExecuteTime": {
     "end_time": "2020-05-21T16:10:57.398738Z",
     "start_time": "2020-05-21T16:10:57.335906Z"
    }
   },
   "outputs": [],
   "source": [
    "X_train, X_test, y_train, y_test = train_test_split(data['review'], data['sentiment'], \n",
    "                                                    random_state = 42, test_size =0.05, stratify= data['sentiment'])"
   ]
  },
  {
   "cell_type": "code",
   "execution_count": 27,
   "metadata": {
    "ExecuteTime": {
     "end_time": "2020-05-21T16:10:59.437788Z",
     "start_time": "2020-05-21T16:10:59.431809Z"
    }
   },
   "outputs": [
    {
     "data": {
      "text/plain": [
       "array([0, 1, 0, ..., 0, 0, 0], dtype=int64)"
      ]
     },
     "execution_count": 27,
     "metadata": {},
     "output_type": "execute_result"
    }
   ],
   "source": [
    "y_test.values"
   ]
  },
  {
   "cell_type": "code",
   "execution_count": 28,
   "metadata": {
    "ExecuteTime": {
     "end_time": "2020-05-21T16:11:30.736306Z",
     "start_time": "2020-05-21T16:11:01.610063Z"
    }
   },
   "outputs": [],
   "source": [
    "num_words = 43000\n",
    "embedding_dims = 300\n",
    "\n",
    "# Tokenize our data training\n",
    "tokenizer = Tokenizer(num_words=num_words, oov_token = '<UNK>')\n",
    "tokenizer.fit_on_texts(X_train)\n",
    "\n",
    "# word_index\n",
    "word_index = tokenizer.word_index\n",
    "\n",
    "# Transform our training and test data\n",
    "\n",
    "list_tokenized_train = tokenizer.texts_to_sequences(X_train)\n",
    "\n",
    "list_tokenized_test = tokenizer.texts_to_sequences(X_test)\n",
    "\n",
    "# Get max training sequence length\n",
    "maxlen = max([len(x) for x in list_tokenized_train])\n",
    "\n",
    "# Creating sequence of our training set\n",
    "x_train = sequence.pad_sequences(list_tokenized_train, padding = 'post', \n",
    "                                 truncating = 'post', maxlen=maxlen)\n",
    "\n",
    "y_train = y_train.values\n",
    "\n",
    "# Creating sequence of our ttest set\n",
    "x_test = sequence.pad_sequences(list_tokenized_test, padding = 'post', \n",
    "                                 truncating = 'post', maxlen=maxlen)\n",
    "\n",
    "y_test = y_test.values"
   ]
  },
  {
   "cell_type": "code",
   "execution_count": 29,
   "metadata": {
    "ExecuteTime": {
     "end_time": "2020-05-21T16:11:33.311369Z",
     "start_time": "2020-05-21T16:11:33.304402Z"
    }
   },
   "outputs": [
    {
     "data": {
      "text/plain": [
       "'\\nembeddings_index = dict()\\nf = open(\\'glove.6B.300d.txt\\', encoding=\"utf8\")\\nfor line in f:\\n    values = line.split()\\n    word = values[0]\\n    coefs = np.asarray(values[1:], dtype=\\'float32\\')\\n    embeddings_index[word] = coefs\\nf.close()\\n\\nnum_words = min(num_words, len(word_index) + 1)\\nembedding_matrix = np.zeros((num_words, embedding_dims))\\nfor word, i in word_index.items():\\n    if i >= num_words:\\n        continue\\n    embedding_vector = embeddings_index.get(word)\\n    if embedding_vector is not None:\\n        embedding_matrix[i] = embedding_vector\\n'"
      ]
     },
     "execution_count": 29,
     "metadata": {},
     "output_type": "execute_result"
    }
   ],
   "source": [
    "# Creating a embedding using glove\n",
    "\n",
    "\"\"\"\n",
    "embeddings_index = dict()\n",
    "f = open('glove.6B.300d.txt', encoding=\"utf8\")\n",
    "for line in f:\n",
    "    values = line.split()\n",
    "    word = values[0]\n",
    "    coefs = np.asarray(values[1:], dtype='float32')\n",
    "    embeddings_index[word] = coefs\n",
    "f.close()\n",
    "\n",
    "num_words = min(num_words, len(word_index) + 1)\n",
    "embedding_matrix = np.zeros((num_words, embedding_dims))\n",
    "for word, i in word_index.items():\n",
    "    if i >= num_words:\n",
    "        continue\n",
    "    embedding_vector = embeddings_index.get(word)\n",
    "    if embedding_vector is not None:\n",
    "        embedding_matrix[i] = embedding_vector\n",
    "\"\"\"\n",
    "\n"
   ]
  },
  {
   "cell_type": "code",
   "execution_count": 42,
   "metadata": {
    "ExecuteTime": {
     "end_time": "2020-05-21T16:33:42.386802Z",
     "start_time": "2020-05-21T16:33:42.360872Z"
    }
   },
   "outputs": [],
   "source": [
    "class TextCNN(Model):\n",
    "\n",
    "    def __init__(self,\n",
    "                 maxlen,\n",
    "                 max_features,\n",
    "                 embedding_dims,\n",
    "                 weight = None,\n",
    "                 kernel_sizes=[2, 3, 4, 5, 6],\n",
    "                 class_num=1,\n",
    "                 last_activation='sigmoid'):\n",
    "        super(TextCNN, self).__init__()\n",
    "        self.maxlen = maxlen\n",
    "        self.max_features = max_features\n",
    "        self.weight = weight\n",
    "        self.embedding_dims = embedding_dims\n",
    "        self.kernel_sizes = kernel_sizes\n",
    "        self.class_num = class_num\n",
    "        self.last_activation = last_activation\n",
    "        self.embedding = Embedding(self.max_features, self.embedding_dims, weights=self.weight, input_length=self.maxlen, trainable=False)\n",
    "        self.convs = []\n",
    "        self.max_poolings = []\n",
    "        for kernel_size in self.kernel_sizes:\n",
    "            self.convs.append(Conv1D(128, kernel_size, activation='relu'))\n",
    "            self.max_poolings.append(GlobalMaxPooling1D())\n",
    "        self.classifier = Dense(self.class_num, activation=self.last_activation)\n",
    "\n",
    "    def call(self, inputs):\n",
    "        if len(inputs.get_shape()) != 2:\n",
    "            raise ValueError('The rank of inputs of TextCNN must be 2, but now is %d' % len(inputs.get_shape()))\n",
    "        if inputs.get_shape()[1] != self.maxlen:\n",
    "            raise ValueError('The maxlen of inputs of TextCNN must be %d, but now is %d' % (self.maxlen, inputs.get_shape()[1]))\n",
    "        # Embedding part can try multichannel as same as origin paper\n",
    "        embedding = self.embedding(inputs)\n",
    "        convs = []\n",
    "        for i in range(len(self.kernel_sizes)):\n",
    "            c = self.convs[i](embedding)\n",
    "            c = self.max_poolings[i](c)\n",
    "            convs.append(c)\n",
    "        x = Concatenate()(convs)\n",
    "        output = self.classifier(x)\n",
    "        return output"
   ]
  },
  {
   "cell_type": "code",
   "execution_count": null,
   "metadata": {
    "ExecuteTime": {
     "end_time": "2020-05-21T16:34:25.317999Z",
     "start_time": "2020-05-21T16:34:22.242Z"
    }
   },
   "outputs": [],
   "source": [
    "max_features = num_words\n",
    "batch_size = 50\n",
    "epochs = 4\n",
    "\n",
    "\n",
    "model = TextCNN(maxlen, max_features, embedding_dims, weight = None)\n",
    "model.compile('adam', 'binary_crossentropy', metrics=['accuracy'])\n",
    "\n"
   ]
  },
  {
   "cell_type": "code",
   "execution_count": null,
   "metadata": {
    "ExecuteTime": {
     "end_time": "2020-05-21T16:34:25.309032Z",
     "start_time": "2020-05-21T16:34:18.317726Z"
    }
   },
   "outputs": [],
   "source": [
    "model.fit(x_train, y_train,\n",
    "          batch_size=batch_size,\n",
    "          epochs=epochs,\n",
    "          validation_data=(x_test, y_test))"
   ]
  },
  {
   "cell_type": "code",
   "execution_count": null,
   "metadata": {
    "ExecuteTime": {
     "end_time": "2020-05-21T16:34:36.214318Z",
     "start_time": "2020-05-21T16:34:36.177414Z"
    }
   },
   "outputs": [],
   "source": [
    "model.load_weights('model_weights.h5')"
   ]
  },
  {
   "cell_type": "code",
   "execution_count": null,
   "metadata": {
    "ExecuteTime": {
     "end_time": "2020-05-21T16:34:08.868810Z",
     "start_time": "2020-05-21T16:34:05.613282Z"
    }
   },
   "outputs": [],
   "source": [
    "print('Test...')\n",
    "result = model.predict(x_test)"
   ]
  },
  {
   "cell_type": "code",
   "execution_count": null,
   "metadata": {},
   "outputs": [],
   "source": [
    "y_pred = (result > 0.5)\n",
    "\n",
    "print(classification_report(y_pred, y_test))\n",
    "print('Confusion matrix:')\n",
    "confusion_matrix(y_pred, y_test)"
   ]
  },
  {
   "cell_type": "code",
   "execution_count": null,
   "metadata": {},
   "outputs": [],
   "source": []
  },
  {
   "cell_type": "code",
   "execution_count": null,
   "metadata": {},
   "outputs": [],
   "source": []
  },
  {
   "cell_type": "code",
   "execution_count": null,
   "metadata": {},
   "outputs": [],
   "source": []
  },
  {
   "cell_type": "code",
   "execution_count": null,
   "metadata": {},
   "outputs": [],
   "source": []
  },
  {
   "cell_type": "code",
   "execution_count": null,
   "metadata": {},
   "outputs": [],
   "source": []
  },
  {
   "cell_type": "code",
   "execution_count": null,
   "metadata": {},
   "outputs": [],
   "source": []
  },
  {
   "cell_type": "code",
   "execution_count": null,
   "metadata": {},
   "outputs": [],
   "source": []
  },
  {
   "cell_type": "code",
   "execution_count": null,
   "metadata": {},
   "outputs": [],
   "source": []
  }
 ],
 "metadata": {
  "kernelspec": {
   "display_name": "Python 3",
   "language": "python",
   "name": "python3"
  },
  "language_info": {
   "codemirror_mode": {
    "name": "ipython",
    "version": 3
   },
   "file_extension": ".py",
   "mimetype": "text/x-python",
   "name": "python",
   "nbconvert_exporter": "python",
   "pygments_lexer": "ipython3",
   "version": "3.7.4"
  },
  "varInspector": {
   "cols": {
    "lenName": 16,
    "lenType": 16,
    "lenVar": 40
   },
   "kernels_config": {
    "python": {
     "delete_cmd_postfix": "",
     "delete_cmd_prefix": "del ",
     "library": "var_list.py",
     "varRefreshCmd": "print(var_dic_list())"
    },
    "r": {
     "delete_cmd_postfix": ") ",
     "delete_cmd_prefix": "rm(",
     "library": "var_list.r",
     "varRefreshCmd": "cat(var_dic_list()) "
    }
   },
   "types_to_exclude": [
    "module",
    "function",
    "builtin_function_or_method",
    "instance",
    "_Feature"
   ],
   "window_display": false
  }
 },
 "nbformat": 4,
 "nbformat_minor": 2
}
